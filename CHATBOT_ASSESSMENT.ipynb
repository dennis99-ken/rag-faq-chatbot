{
 "cells": [
  {
   "cell_type": "code",
   "execution_count": 1,
   "id": "979d1026-285a-4ae4-9649-f323a24aef65",
   "metadata": {
    "scrolled": true
   },
   "outputs": [],
   "source": [
    "!pip install langchain sentence-transformers faiss-cpu google-generativeai tqdm pandas"
   ]
  },
  {
   "cell_type": "code",
   "execution_count": 3,
   "id": "c8f597e1-5b9f-4a38-b8c1-bb5197604fb6",
   "metadata": {},
   "outputs": [],
   "source": [
    "!pip install python-docx"
   ]
  },
  {
   "cell_type": "code",
   "execution_count": 5,
   "id": "775860f3-5314-47de-bef8-a8151d5a82fe",
   "metadata": {},
   "outputs": [
    {
     "name": "stdout",
     "output_type": "stream",
     "text": [
      "Total Q&A pairs: 6\n",
      "1. Kenapa saya tidak boleh menonton selepas membuat bayaran?\n",
      "2. Saya telah melanggan tetapi kenapa masih mempunyai iklan?\n",
      "3. Bagaimana saya nak membatalkan langganan bulanan TontonUp saya?\n",
      "4. Bagaimana saya nak menukar kata laluan?\n",
      "5. Boleh saya melanggan apabila saya di luar negara Malaysia?\n",
      "6. Mengapa ralat muncul di skrin semasa saya menikmati Tonton?\n"
     ]
    }
   ],
   "source": [
    "from docx import Document\n",
    "import re\n",
    "\n",
    "file_path = r\"\\FAQ.docx\"   # adjust according to your FAQ directory\n",
    "doc = Document(file_path)\n",
    "\n",
    "# 1) Flatten all paragraphs into a single text blob\n",
    "raw = \"\\n\".join(p.text for p in doc.paragraphs)\n",
    "\n",
    "# 2) Normalise common quirks\n",
    "text = raw.replace(\"\\r\", \"\\n\")\n",
    "text = re.sub(r\"[ \\t]+\", \" \", text)          # collapse spaces\n",
    "text = re.sub(r\"\\n{2,}\", \"\\n\\n\", text)       # collapse blank lines\n",
    "# fix label variants like \"Question :\", \"Answer –\", etc.\n",
    "replacements = {\n",
    "    \"Question :\": \"Question:\",\n",
    "    \"Answer :\": \"Answer:\",\n",
    "    \"Answer –\": \"Answer:\",\n",
    "    \"Answer -\": \"Answer:\",\n",
    "    \"Question –\": \"Question:\",\n",
    "    \"Question -\": \"Question:\",\n",
    "}\n",
    "for k, v in replacements.items():\n",
    "    text = text.replace(k, v)\n",
    "\n",
    "# 3) Split by Question: (case-insensitive, at line start)\n",
    "blocks = re.split(r\"(?im)^\\s*question\\s*:\\s*\", text)\n",
    "\n",
    "faq_data = []\n",
    "for block in blocks:\n",
    "    block = block.strip()\n",
    "    if not block:\n",
    "        continue\n",
    "\n",
    "    # find the first \"Answer:\" line inside this block\n",
    "    m = re.search(r\"(?im)^\\s*answer\\s*:\\s*\", block)\n",
    "    if m:\n",
    "        q = block[:m.start()].strip()\n",
    "        a = block[m.end():].strip()\n",
    "    else:\n",
    "        # fallback: first non-empty line = question, rest = answer\n",
    "        lines = [l.strip() for l in block.splitlines() if l.strip()]\n",
    "        if not lines:\n",
    "            continue\n",
    "        q = lines[0]\n",
    "        a = \" \".join(lines[1:]) if len(lines) > 1 else \"\"\n",
    "\n",
    "    q = re.sub(r\"\\s+\", \" \", q)\n",
    "    a = re.sub(r\"\\s+\", \" \", a)\n",
    "\n",
    "    if q and a:\n",
    "        faq_data.append({\"question\": q, \"answer\": a})\n",
    "\n",
    "print(\"Total Q&A pairs:\", len(faq_data))\n",
    "for i, qa in enumerate(faq_data, 1):\n",
    "    print(f\"{i}. {qa['question'][:100]}\")\n"
   ]
  },
  {
   "cell_type": "code",
   "execution_count": 7,
   "id": "89668b6d-4fca-4e14-b059-c810c7f37a0a",
   "metadata": {
    "scrolled": true
   },
   "outputs": [],
   "source": [
    "!pip install sentence-transformers faiss-cpu"
   ]
  },
  {
   "cell_type": "code",
   "execution_count": 9,
   "id": "6dde3bec-de60-41b5-9998-c24f977099b5",
   "metadata": {
    "scrolled": true
   },
   "outputs": [],
   "source": [
    "from sentence_transformers import SentenceTransformer\n",
    "import faiss\n",
    "import numpy as np\n",
    "\n",
    "# Load the multilingual embedding model\n",
    "embedding_model = SentenceTransformer(\"paraphrase-multilingual-MiniLM-L12-v2\")"
   ]
  },
  {
   "cell_type": "code",
   "execution_count": 11,
   "id": "d856ccf4-5f5f-4e9f-b6f3-5cabb55db22a",
   "metadata": {},
   "outputs": [
    {
     "data": {
      "application/vnd.jupyter.widget-view+json": {
       "model_id": "5ab3d37af6de4d2d87f25470d53e4679",
       "version_major": 2,
       "version_minor": 0
      },
      "text/plain": [
       "Batches:   0%|          | 0/1 [00:00<?, ?it/s]"
      ]
     },
     "metadata": {},
     "output_type": "display_data"
    }
   ],
   "source": [
    "# Embed Q + A (not just answers)\n",
    "texts = [f\"Question: {it['question']}\\nAnswer: {it['answer']}\" for it in faq_data]\n",
    "\n",
    "embeddings = embedding_model.encode(texts, show_progress_bar=True, convert_to_numpy=True).astype(\"float32\")\n",
    "\n",
    "embedding_dim = embeddings.shape[1]\n",
    "index = faiss.IndexFlatL2(embedding_dim)\n",
    "index.add(embeddings)\n",
    "\n",
    "assert index.ntotal == len(faq_data), f\"Index {index.ntotal} != data {len(faq_data)}\""
   ]
  },
  {
   "cell_type": "code",
   "execution_count": 13,
   "id": "78ccd713-800d-4c69-bba9-b1f675ce2f18",
   "metadata": {},
   "outputs": [],
   "source": [
    "import os, google.generativeai as genai\n",
    "import re\n",
    "\n",
    "# Replace with your own key\n",
    "genai.configure(api_key=\"your_api_key_here\")\n",
    "#genai.configure(api_key=os.environ[\"GEMINI_API_KEY\"])\n",
    "\n",
    "\n",
    "# Load Gemini model\n",
    "model = genai.GenerativeModel(\"models/gemini-1.5-flash\")"
   ]
  },
  {
   "cell_type": "markdown",
   "id": "36de86ed-ecd1-469e-818f-96b0a49d872c",
   "metadata": {},
   "source": [
    "#dont forget to replace the \"\"your_api_key_here\" with your API_KEY"
   ]
  },
  {
   "cell_type": "code",
   "execution_count": 15,
   "id": "30bea2d1-aafd-4dc3-89e3-775c5f1452c3",
   "metadata": {},
   "outputs": [],
   "source": [
    "def ask_chatbot(user_question, top_k=3):\n",
    "    # 1. Embed the user query\n",
    "    query_embedding = embedding_model.encode([user_question])\n",
    "\n",
    "    # 2. Search in FAISS\n",
    "    D, I = index.search(np.array(query_embedding), top_k)\n",
    "\n",
    "    # 3. Retrieve matching answers\n",
    "    #retrieved_chunks = [faq_data[i][\"answer\"] for i in I[0]]\n",
    "    #retrieved_context = \"\\n\\n\".join(retrieved_chunks)\n",
    "\n",
    "   # Simple keyword overlap filter (more general)\n",
    "    question_keywords = set(re.findall(r'\\w+', user_question.lower()))\n",
    "    retrieved_chunks = []\n",
    "\n",
    "    for i in I[0]:\n",
    "        chunk = faq_data[i][\"answer\"]\n",
    "        chunk_words = set(re.findall(r'\\w+', chunk.lower()))\n",
    "        overlap = question_keywords.intersection(chunk_words)\n",
    "\n",
    "        if len(overlap) >= 2:  # At least 2 overlapping words\n",
    "            retrieved_chunks.append(chunk)\n",
    "\n",
    "    if not retrieved_chunks:\n",
    "        return \"Maaf, tiada maklumat berkaitan ditemui.\", \"\"\n",
    "\n",
    "    retrieved_context = \"\\n\\n\".join(retrieved_chunks)\n",
    "\n",
    "    \n",
    "    # ✅ Print retrieved chunk(s) for debugging\n",
    "    print(\"🧾 Retrieved content:\\n\")\n",
    "    for i, chunk in enumerate(retrieved_chunks):\n",
    "        print(f\"Chunk {i+1}:\\n{chunk}\\n\")\n",
    "\n",
    "    # 4. Build prompt (updated prompt with stricter instructions)\n",
    "    prompt = (\n",
    "    \"Sila gunakan maklumat di bawah sahaja untuk menjawab soalan pengguna. \"\n",
    "    \"Jangan cipta jawapan yang tidak wujud dalam maklumat tersebut. \"\n",
    "    \"Petik secara langsung maklumat penting jika perlu. \"\n",
    "    \"Pastikan jawapan anda mengandungi semua butiran penting seperti nombor langkah atau bilangan episod. \" \n",
    "    \"Jika jawapan tiada dalam maklumat, balas 'Maklumat tidak tersedia'. \"  \n",
    "    \"Jawab dalam Bahasa Melayu.\\n\\n\"\n",
    "    f\"{retrieved_context}\\n\\n\"\n",
    "    f\"Soalan: {user_question}\\n\"\n",
    "    f\"Jawapan:\"\n",
    "    )\n",
    "\n",
    "    # 5. Generate response using Gemini\n",
    "    response = model.generate_content(prompt)\n",
    "    return response.text"
   ]
  },
  {
   "cell_type": "code",
   "execution_count": 17,
   "id": "76aebe0d-d92c-42ab-b746-1061d3ddcd33",
   "metadata": {},
   "outputs": [
    {
     "name": "stdout",
     "output_type": "stream",
     "text": [
      "🧾 Retrieved content:\n",
      "\n",
      "Chunk 1:\n",
      "Jika anda ingin mengaktifkan semula langganan untuk kandungan eksklusif, anda boleh melawati pautan ini https://www.tonton.com.my/tontonup untuk menaik taraf akaun anda. Sebaik sahaja anda mengklik pautan, anda akan melihat halaman yang menunjukkan ruangan \"SUBSCRIBE NOW\". Sila klik ke ruangan \"SUBSCRIBE NOW\" di bahagian ATAS sekali untuk meneruskan proses langganan dan pembayaran. Sila pilih kaedah pembayaran pilihan anda dan ikuti arahan seterusnya di dalam Langkah 2. Sebaik sahaja anda telah membuat pembayaran langganan, kami mencadangkan anda untuk klik butang Pembaharuan\n",
      "\n",
      "Chunk 2:\n",
      "Kami menyarankan anda supaya mengikuti langkah-langkah berikut untuk mengaktifkan langganan anda selepas bayaran dilakukan: 1. Klik pada ikon 'setting' pada bahagian atas sebelah kiri (telefon bimbit) aplikasi Tonton atau sebelah kanan (komputer) laman web (website) anda. 2. Pilih Tetapan Aplikasi (App Settings) daripada menu. 3. Klik butang Akaun (Account) 4. Klik butang Pembaharuan Kelayakan (Refresh Entitlement) 5. Tunggu sehingga tanda ✅ 6. Klik logo Tonton untuk kembali ke laman utama.\n",
      "\n",
      "Maklumat tidak tersedia.  Teks tersebut menerangkan cara untuk mengaktifkan semula langganan, tetapi tidak menerangkan punca kegagalan menonton selepas pembayaran.\n",
      "\n"
     ]
    }
   ],
   "source": [
    "response = ask_chatbot(\"Kenapa saya tidak boleh menonton selepas membuat bayaran?\")\n",
    "print(response)"
   ]
  },
  {
   "cell_type": "code",
   "execution_count": 19,
   "id": "fc41980b-c6b3-49bd-92b4-2cfa04bcac43",
   "metadata": {},
   "outputs": [
    {
     "name": "stdout",
     "output_type": "stream",
     "text": [
      "🧾 Retrieved content:\n",
      "\n",
      "Chunk 1:\n",
      "Untuk makluman anda, langganan TontonUp memberikan anda akses untuk menonton filem dan drama eksklusif dan saluran TV premium yang hanya boleh didapati di aplikasi Tonton. Untuk menonton tanpa iklan, anda perlulah memilih salah satu daripada saluran TV premium dan bahan tontonan eksklusif yang bertanda logo TontonUp. Untuk cerita tontonan yang bertanda TontonUp, iklan hanya disiarkan pada episod pertama sehingga ke tiga bagi drama yang ditonton sahaja dan tidak akan mempunyai iklan pada episod seterus .\n",
      "\n",
      "Iklan hanya dipaparkan pada episod pertama hingga ketiga bagi drama yang bertanda TontonUp.  Episod seterusnya bebas daripada iklan.  Sekiranya iklan masih dipaparkan selepas episod ketiga, pastikan anda menonton kandungan yang mempunyai logo TontonUp untuk tontonan tanpa iklan.\n",
      "\n"
     ]
    }
   ],
   "source": [
    "response = ask_chatbot(\"Saya telah melanggan tetapi kenapa masih mempunyai iklan?\")\n",
    "print(response)"
   ]
  },
  {
   "cell_type": "code",
   "execution_count": 25,
   "id": "b47afe11-78d7-4335-ab4e-cb4d420cadb8",
   "metadata": {},
   "outputs": [
    {
     "name": "stdout",
     "output_type": "stream",
     "text": [
      "🧾 Retrieved content:\n",
      "\n",
      "Chunk 1:\n",
      "Untuk makluman, anda boleh membatalkan pembayaran berulang automatik anda pada Profil Tonton anda. Bagi rujukan mudah anda, berikut adalah langkah-langkah untuk membatalkan langganan TontonUp anda: Anda boleh menggunakan TELEFON BIMBIT atau DESKTOP melalui laman web (komputer). Telefon Bimbit 1) Pergi ke Tetapan (Settings) > klik pada Akaun (Account) > Klik pada Pembaharuan Kelayakan (Refresh Entitlements) > Kemudian klik pada Urus Akaun (Manage account) 2) Klik pada pelan langganan (Subscription Plan) 3) Klik pada batalkan langganan berulang (Cancel Recurring Subscription) Laman Web (Website) 1) Log masuk ke Akaun (Account) > Klik pada Tetapan (Settings) > Pilih Akaun (Account) 2) Pergi ke pelan langganan (Subscription Plan) 3) Klik pada batalkan langganan berulang (Cancel Recurring Subscription) Jika anda menghadapi masalah untuk membatalkan langganan anda, sila sertakan resit pembayaran terkini dan butiran berikut untuk kami menyemak dengan lebih lanjut dan melakukan pembatalan manual daripada sistem kami. Alamat E-mel Berdaftar: Nombor Telefon Berdaftar: Untuk makluman anda, permohonan pembatalan langganan hendaklah dilakukan selewat-lewatnya 5 hari sebelum tarikh tamat langganan anda.\n",
      "\n",
      "Chunk 2:\n",
      "Jika anda ingin mengaktifkan semula langganan untuk kandungan eksklusif, anda boleh melawati pautan ini https://www.tonton.com.my/tontonup untuk menaik taraf akaun anda. Sebaik sahaja anda mengklik pautan, anda akan melihat halaman yang menunjukkan ruangan \"SUBSCRIBE NOW\". Sila klik ke ruangan \"SUBSCRIBE NOW\" di bahagian ATAS sekali untuk meneruskan proses langganan dan pembayaran. Sila pilih kaedah pembayaran pilihan anda dan ikuti arahan seterusnya di dalam Langkah 2. Sebaik sahaja anda telah membuat pembayaran langganan, kami mencadangkan anda untuk klik butang Pembaharuan\n",
      "\n",
      "Chunk 3:\n",
      "Untuk makluman anda, langganan TontonUp memberikan anda akses untuk menonton filem dan drama eksklusif dan saluran TV premium yang hanya boleh didapati di aplikasi Tonton. Untuk menonton tanpa iklan, anda perlulah memilih salah satu daripada saluran TV premium dan bahan tontonan eksklusif yang bertanda logo TontonUp. Untuk cerita tontonan yang bertanda TontonUp, iklan hanya disiarkan pada episod pertama sehingga ke tiga bagi drama yang ditonton sahaja dan tidak akan mempunyai iklan pada episod seterus .\n",
      "\n",
      "Anda boleh membatalkan langganan TontonUp anda melalui telefon bimbit atau laman web.\n",
      "\n",
      "**Telefon Bimbit:**\n",
      "\n",
      "1. Pergi ke Tetapan (Settings) > klik pada Akaun (Account) > Klik pada Pembaharuan Kelayakan (Refresh Entitlements) > Kemudian klik pada Urus Akaun (Manage account)\n",
      "2. Klik pada pelan langganan (Subscription Plan)\n",
      "3. Klik pada batalkan langganan berulang (Cancel Recurring Subscription)\n",
      "\n",
      "**Laman Web:**\n",
      "\n",
      "1. Log masuk ke Akaun (Account) > Klik pada Tetapan (Settings) > Pilih Akaun (Account)\n",
      "2. Pergi ke pelan langganan (Subscription Plan)\n",
      "3. Klik pada batalkan langganan berulang (Cancel Recurring Subscription)\n",
      "\n",
      "\n",
      "Jika anda menghadapi masalah, sila sertakan resit pembayaran terkini dan Alamat E-mel Berdaftar serta Nombor Telefon Berdaftar untuk pembatalan manual.  Permohonan pembatalan hendaklah dilakukan selewat-lewatnya 5 hari sebelum tarikh tamat langganan anda.\n",
      "\n"
     ]
    }
   ],
   "source": [
    "response = ask_chatbot(\"Bagaimana saya nak membatalkan langganan bulanan TontonUp saya?\")\n",
    "print(response)"
   ]
  },
  {
   "cell_type": "code",
   "execution_count": 23,
   "id": "b775febf-6fc2-4ca9-820a-d745180c38d2",
   "metadata": {},
   "outputs": [
    {
     "name": "stdout",
     "output_type": "stream",
     "text": [
      "🧾 Retrieved content:\n",
      "\n",
      "Chunk 1:\n",
      "Kami mencadangkan anda untuk membuat tetapan semula kata laluan, kemudian log masuk semula. Anda boleh ke pautan di bawah bagi menetapkan semula kata laluan bagi akaun anda - https://oauth.revmedia.my/forgot?client_id=551835651455588&redirect_uri=https%3A%2F%2Fheadend-api.tonton.com.my%2Fv100%2Fapi%2Fauth.class.api.php%2Fcallback&response_type=code&code_challenge=DJfXvpi3ZqdivuoclgDAwSuLyMfyNwkz4cbtfzt_vU8&code_challenge_method=S256&state=TONTON_web.B3Wa0gmr3pAG8zKMqutaT2bXabyU01RB\n",
      "\n",
      "Anda boleh menetapkan semula kata laluan akaun anda dengan melayari pautan ini:  `https://oauth.revmedia.my/forgot?client_id=551835651455588&redirect_uri=https%3A%2F%2Fheadend-api.tonton.com.my%2Fv100%2Fapi%2Fauth.class.api.php%2Fcallback&response_type=code&code_challenge=DJfXvpi3ZqdivuoclgDAwSuLyMfyNwkz4cbtfzt_vU8&code_challenge_method=S256&state=TONTON_web.B3Wa0gmr3pAG8zKMqutaT2bXabyU01RB`\n",
      "Selepas itu, log masuk semula.\n",
      "\n"
     ]
    }
   ],
   "source": [
    "response = ask_chatbot(\"Bagaimana saya nak menukar kata laluan?\")\n",
    "print(response)"
   ]
  },
  {
   "cell_type": "code",
   "execution_count": 31,
   "id": "8660ff4a-9c8a-4857-976b-6e00ad725e85",
   "metadata": {},
   "outputs": [
    {
     "name": "stdout",
     "output_type": "stream",
     "text": [
      "🧾 Retrieved content:\n",
      "\n",
      "Chunk 1:\n",
      "Untuk makluman, platform kami hanya boleh di tonton di Malaysia sahaja pada ketika ini.\n",
      "\n",
      "Maklumat tidak tersedia.\n",
      "\n"
     ]
    }
   ],
   "source": [
    "response = ask_chatbot(\"Boleh saya melanggan apabila saya di luar negara Malaysia?\")\n",
    "print(response)"
   ]
  },
  {
   "cell_type": "code",
   "execution_count": 29,
   "id": "c52cbd57-4da0-4c68-8ea3-3ef2697911c1",
   "metadata": {},
   "outputs": [
    {
     "name": "stdout",
     "output_type": "stream",
     "text": [
      "🧾 Retrieved content:\n",
      "\n",
      "Chunk 1:\n",
      "Jika anda ingin mengaktifkan semula langganan untuk kandungan eksklusif, anda boleh melawati pautan ini https://www.tonton.com.my/tontonup untuk menaik taraf akaun anda. Sebaik sahaja anda mengklik pautan, anda akan melihat halaman yang menunjukkan ruangan \"SUBSCRIBE NOW\". Sila klik ke ruangan \"SUBSCRIBE NOW\" di bahagian ATAS sekali untuk meneruskan proses langganan dan pembayaran. Sila pilih kaedah pembayaran pilihan anda dan ikuti arahan seterusnya di dalam Langkah 2. Sebaik sahaja anda telah membuat pembayaran langganan, kami mencadangkan anda untuk klik butang Pembaharuan\n",
      "\n",
      "Chunk 2:\n",
      "Untuk makluman anda, langganan TontonUp memberikan anda akses untuk menonton filem dan drama eksklusif dan saluran TV premium yang hanya boleh didapati di aplikasi Tonton. Untuk menonton tanpa iklan, anda perlulah memilih salah satu daripada saluran TV premium dan bahan tontonan eksklusif yang bertanda logo TontonUp. Untuk cerita tontonan yang bertanda TontonUp, iklan hanya disiarkan pada episod pertama sehingga ke tiga bagi drama yang ditonton sahaja dan tidak akan mempunyai iklan pada episod seterus .\n",
      "\n",
      "Maklumat tidak tersedia.\n",
      "\n"
     ]
    }
   ],
   "source": [
    "response = ask_chatbot(\"Mengapa ralat muncul di skrin semasa saya menikmati Tonton? \")\n",
    "print(response)"
   ]
  },
  {
   "cell_type": "code",
   "execution_count": 33,
   "id": "06ae9420-dcba-41fa-bf1d-fb1531868130",
   "metadata": {},
   "outputs": [
    {
     "name": "stdout",
     "output_type": "stream",
     "text": [
      "Saved faq_data.pkl and faq_index.faiss\n"
     ]
    }
   ],
   "source": [
    "import pickle, faiss\n",
    "\n",
    "# Save FAQ data\n",
    "with open(\"faq_data.pkl\", \"wb\") as f:\n",
    "    pickle.dump(faq_data, f)\n",
    "\n",
    "# Save FAISS index\n",
    "faiss.write_index(index, \"faq_index.faiss\")\n",
    "print(\"Saved faq_data.pkl and faq_index.faiss\")"
   ]
  },
  {
   "cell_type": "code",
   "execution_count": null,
   "id": "b87ff142-89f5-4edb-8f7c-22feb16a4571",
   "metadata": {},
   "outputs": [],
   "source": []
  }
 ],
 "metadata": {
  "kernelspec": {
   "display_name": "Python [conda env:anaconda3]",
   "language": "python",
   "name": "conda-env-anaconda3-py"
  },
  "language_info": {
   "codemirror_mode": {
    "name": "ipython",
    "version": 3
   },
   "file_extension": ".py",
   "mimetype": "text/x-python",
   "name": "python",
   "nbconvert_exporter": "python",
   "pygments_lexer": "ipython3",
   "version": "3.12.7"
  }
 },
 "nbformat": 4,
 "nbformat_minor": 5
}
